{
 "cells": [
  {
   "cell_type": "code",
   "execution_count": 1,
   "id": "2d9eb8f3",
   "metadata": {},
   "outputs": [
    {
     "data": {
      "text/html": [
       "<div>\n",
       "<style scoped>\n",
       "    .dataframe tbody tr th:only-of-type {\n",
       "        vertical-align: middle;\n",
       "    }\n",
       "\n",
       "    .dataframe tbody tr th {\n",
       "        vertical-align: top;\n",
       "    }\n",
       "\n",
       "    .dataframe thead th {\n",
       "        text-align: right;\n",
       "    }\n",
       "</style>\n",
       "<table border=\"1\" class=\"dataframe\">\n",
       "  <thead>\n",
       "    <tr style=\"text-align: right;\">\n",
       "      <th></th>\n",
       "      <th>review_id</th>\n",
       "      <th>star_rating</th>\n",
       "      <th>helpful_votes</th>\n",
       "      <th>total_votes</th>\n",
       "      <th>vine</th>\n",
       "      <th>verified_purchase</th>\n",
       "    </tr>\n",
       "  </thead>\n",
       "  <tbody>\n",
       "    <tr>\n",
       "      <th>0</th>\n",
       "      <td>R1QX6706ZWJ1P5</td>\n",
       "      <td>5</td>\n",
       "      <td>0</td>\n",
       "      <td>0</td>\n",
       "      <td>N</td>\n",
       "      <td>Y</td>\n",
       "    </tr>\n",
       "    <tr>\n",
       "      <th>1</th>\n",
       "      <td>R3QWMLJHIW6P37</td>\n",
       "      <td>5</td>\n",
       "      <td>0</td>\n",
       "      <td>0</td>\n",
       "      <td>N</td>\n",
       "      <td>Y</td>\n",
       "    </tr>\n",
       "    <tr>\n",
       "      <th>2</th>\n",
       "      <td>R14Z1VR1N0Z9G6</td>\n",
       "      <td>5</td>\n",
       "      <td>1</td>\n",
       "      <td>1</td>\n",
       "      <td>N</td>\n",
       "      <td>Y</td>\n",
       "    </tr>\n",
       "    <tr>\n",
       "      <th>3</th>\n",
       "      <td>R25ZRJL0GH0U0</td>\n",
       "      <td>2</td>\n",
       "      <td>0</td>\n",
       "      <td>0</td>\n",
       "      <td>N</td>\n",
       "      <td>Y</td>\n",
       "    </tr>\n",
       "    <tr>\n",
       "      <th>4</th>\n",
       "      <td>R3837KYH7AZNIY</td>\n",
       "      <td>4</td>\n",
       "      <td>0</td>\n",
       "      <td>1</td>\n",
       "      <td>N</td>\n",
       "      <td>Y</td>\n",
       "    </tr>\n",
       "  </tbody>\n",
       "</table>\n",
       "</div>"
      ],
      "text/plain": [
       "        review_id  star_rating  helpful_votes  total_votes vine  \\\n",
       "0  R1QX6706ZWJ1P5            5              0            0    N   \n",
       "1  R3QWMLJHIW6P37            5              0            0    N   \n",
       "2  R14Z1VR1N0Z9G6            5              1            1    N   \n",
       "3   R25ZRJL0GH0U0            2              0            0    N   \n",
       "4  R3837KYH7AZNIY            4              0            1    N   \n",
       "\n",
       "  verified_purchase  \n",
       "0                 Y  \n",
       "1                 Y  \n",
       "2                 Y  \n",
       "3                 Y  \n",
       "4                 Y  "
      ]
     },
     "execution_count": 1,
     "metadata": {},
     "output_type": "execute_result"
    }
   ],
   "source": [
    "# Import dependencies\n",
    "import pandas as pd\n",
    "\n",
    "# File to Load (Remember to change these)\n",
    "vine_review_data = \"vine_table.csv\"\n",
    "\n",
    "# Read the City and Ride Data\n",
    "vine_df = pd.read_csv(vine_review_data)\n",
    "vine_df.head()"
   ]
  },
  {
   "cell_type": "code",
   "execution_count": 2,
   "id": "cb9462a7",
   "metadata": {},
   "outputs": [
    {
     "data": {
      "text/html": [
       "<div>\n",
       "<style scoped>\n",
       "    .dataframe tbody tr th:only-of-type {\n",
       "        vertical-align: middle;\n",
       "    }\n",
       "\n",
       "    .dataframe tbody tr th {\n",
       "        vertical-align: top;\n",
       "    }\n",
       "\n",
       "    .dataframe thead th {\n",
       "        text-align: right;\n",
       "    }\n",
       "</style>\n",
       "<table border=\"1\" class=\"dataframe\">\n",
       "  <thead>\n",
       "    <tr style=\"text-align: right;\">\n",
       "      <th></th>\n",
       "      <th>review_id</th>\n",
       "      <th>star_rating</th>\n",
       "      <th>helpful_votes</th>\n",
       "      <th>total_votes</th>\n",
       "      <th>vine</th>\n",
       "      <th>verified_purchase</th>\n",
       "    </tr>\n",
       "  </thead>\n",
       "  <tbody>\n",
       "    <tr>\n",
       "      <th>884</th>\n",
       "      <td>R2PT2X8FMYFCV3</td>\n",
       "      <td>5</td>\n",
       "      <td>39</td>\n",
       "      <td>41</td>\n",
       "      <td>N</td>\n",
       "      <td>Y</td>\n",
       "    </tr>\n",
       "    <tr>\n",
       "      <th>917</th>\n",
       "      <td>RGCUQSH80SYY7</td>\n",
       "      <td>1</td>\n",
       "      <td>36</td>\n",
       "      <td>47</td>\n",
       "      <td>N</td>\n",
       "      <td>N</td>\n",
       "    </tr>\n",
       "    <tr>\n",
       "      <th>939</th>\n",
       "      <td>R3E6EI073KP0AL</td>\n",
       "      <td>2</td>\n",
       "      <td>21</td>\n",
       "      <td>36</td>\n",
       "      <td>N</td>\n",
       "      <td>Y</td>\n",
       "    </tr>\n",
       "    <tr>\n",
       "      <th>947</th>\n",
       "      <td>R3MYTXW7B4Z6YW</td>\n",
       "      <td>4</td>\n",
       "      <td>687</td>\n",
       "      <td>711</td>\n",
       "      <td>N</td>\n",
       "      <td>Y</td>\n",
       "    </tr>\n",
       "    <tr>\n",
       "      <th>1211</th>\n",
       "      <td>R2WMF1IWN5ZYO4</td>\n",
       "      <td>5</td>\n",
       "      <td>18</td>\n",
       "      <td>24</td>\n",
       "      <td>N</td>\n",
       "      <td>Y</td>\n",
       "    </tr>\n",
       "  </tbody>\n",
       "</table>\n",
       "</div>"
      ],
      "text/plain": [
       "           review_id  star_rating  helpful_votes  total_votes vine  \\\n",
       "884   R2PT2X8FMYFCV3            5             39           41    N   \n",
       "917    RGCUQSH80SYY7            1             36           47    N   \n",
       "939   R3E6EI073KP0AL            2             21           36    N   \n",
       "947   R3MYTXW7B4Z6YW            4            687          711    N   \n",
       "1211  R2WMF1IWN5ZYO4            5             18           24    N   \n",
       "\n",
       "     verified_purchase  \n",
       "884                  Y  \n",
       "917                  N  \n",
       "939                  Y  \n",
       "947                  Y  \n",
       "1211                 Y  "
      ]
     },
     "execution_count": 2,
     "metadata": {},
     "output_type": "execute_result"
    }
   ],
   "source": [
    "# 1. Filter DF and create a new DF where the \"total_votes\" count is >= 20\n",
    "total_votes_df = vine_df.loc[(vine_df[\"total_votes\"] >= 20)]\n",
    "total_votes_df.head()"
   ]
  },
  {
   "cell_type": "code",
   "execution_count": 5,
   "id": "e387883a",
   "metadata": {},
   "outputs": [
    {
     "name": "stdout",
     "output_type": "stream",
     "text": [
      "<class 'pandas.core.frame.DataFrame'>\n",
      "Int64Index: 3414 entries, 884 to 85980\n",
      "Data columns (total 6 columns):\n",
      " #   Column             Non-Null Count  Dtype \n",
      "---  ------             --------------  ----- \n",
      " 0   review_id          3414 non-null   object\n",
      " 1   star_rating        3414 non-null   int64 \n",
      " 2   helpful_votes      3414 non-null   int64 \n",
      " 3   total_votes        3414 non-null   int64 \n",
      " 4   vine               3414 non-null   object\n",
      " 5   verified_purchase  3414 non-null   object\n",
      "dtypes: int64(3), object(3)\n",
      "memory usage: 186.7+ KB\n"
     ]
    }
   ],
   "source": [
    "total_votes_df.info()"
   ]
  },
  {
   "cell_type": "code",
   "execution_count": 19,
   "id": "c13ac3d9",
   "metadata": {},
   "outputs": [
    {
     "data": {
      "text/html": [
       "<div>\n",
       "<style scoped>\n",
       "    .dataframe tbody tr th:only-of-type {\n",
       "        vertical-align: middle;\n",
       "    }\n",
       "\n",
       "    .dataframe tbody tr th {\n",
       "        vertical-align: top;\n",
       "    }\n",
       "\n",
       "    .dataframe thead th {\n",
       "        text-align: right;\n",
       "    }\n",
       "</style>\n",
       "<table border=\"1\" class=\"dataframe\">\n",
       "  <thead>\n",
       "    <tr style=\"text-align: right;\">\n",
       "      <th></th>\n",
       "      <th>review_id</th>\n",
       "      <th>star_rating</th>\n",
       "      <th>helpful_votes</th>\n",
       "      <th>total_votes</th>\n",
       "      <th>vine</th>\n",
       "      <th>verified_purchase</th>\n",
       "    </tr>\n",
       "  </thead>\n",
       "  <tbody>\n",
       "    <tr>\n",
       "      <th>884</th>\n",
       "      <td>R2PT2X8FMYFCV3</td>\n",
       "      <td>5</td>\n",
       "      <td>39</td>\n",
       "      <td>41</td>\n",
       "      <td>N</td>\n",
       "      <td>Y</td>\n",
       "    </tr>\n",
       "    <tr>\n",
       "      <th>917</th>\n",
       "      <td>RGCUQSH80SYY7</td>\n",
       "      <td>1</td>\n",
       "      <td>36</td>\n",
       "      <td>47</td>\n",
       "      <td>N</td>\n",
       "      <td>N</td>\n",
       "    </tr>\n",
       "    <tr>\n",
       "      <th>939</th>\n",
       "      <td>R3E6EI073KP0AL</td>\n",
       "      <td>2</td>\n",
       "      <td>21</td>\n",
       "      <td>36</td>\n",
       "      <td>N</td>\n",
       "      <td>Y</td>\n",
       "    </tr>\n",
       "    <tr>\n",
       "      <th>947</th>\n",
       "      <td>R3MYTXW7B4Z6YW</td>\n",
       "      <td>4</td>\n",
       "      <td>687</td>\n",
       "      <td>711</td>\n",
       "      <td>N</td>\n",
       "      <td>Y</td>\n",
       "    </tr>\n",
       "    <tr>\n",
       "      <th>1211</th>\n",
       "      <td>R2WMF1IWN5ZYO4</td>\n",
       "      <td>5</td>\n",
       "      <td>18</td>\n",
       "      <td>24</td>\n",
       "      <td>N</td>\n",
       "      <td>Y</td>\n",
       "    </tr>\n",
       "  </tbody>\n",
       "</table>\n",
       "</div>"
      ],
      "text/plain": [
       "           review_id  star_rating  helpful_votes  total_votes vine  \\\n",
       "884   R2PT2X8FMYFCV3            5             39           41    N   \n",
       "917    RGCUQSH80SYY7            1             36           47    N   \n",
       "939   R3E6EI073KP0AL            2             21           36    N   \n",
       "947   R3MYTXW7B4Z6YW            4            687          711    N   \n",
       "1211  R2WMF1IWN5ZYO4            5             18           24    N   \n",
       "\n",
       "     verified_purchase  \n",
       "884                  Y  \n",
       "917                  N  \n",
       "939                  Y  \n",
       "947                  Y  \n",
       "1211                 Y  "
      ]
     },
     "execution_count": 19,
     "metadata": {},
     "output_type": "execute_result"
    }
   ],
   "source": [
    "# 2. Filter DF and create a new DF to retrieve all the rows where \"helpful_votes\"/\"total_votes\" >= 50%\n",
    "helpful_votes_df = total_votes_df.loc[(total_votes_df[\"helpful_votes\"]/total_votes_df[\"total_votes\"] >= 0.5)]\n",
    "helpful_votes_df.head()"
   ]
  },
  {
   "cell_type": "code",
   "execution_count": 20,
   "id": "ddad0245",
   "metadata": {},
   "outputs": [
    {
     "data": {
      "text/html": [
       "<div>\n",
       "<style scoped>\n",
       "    .dataframe tbody tr th:only-of-type {\n",
       "        vertical-align: middle;\n",
       "    }\n",
       "\n",
       "    .dataframe tbody tr th {\n",
       "        vertical-align: top;\n",
       "    }\n",
       "\n",
       "    .dataframe thead th {\n",
       "        text-align: right;\n",
       "    }\n",
       "</style>\n",
       "<table border=\"1\" class=\"dataframe\">\n",
       "  <thead>\n",
       "    <tr style=\"text-align: right;\">\n",
       "      <th></th>\n",
       "      <th>review_id</th>\n",
       "      <th>star_rating</th>\n",
       "      <th>helpful_votes</th>\n",
       "      <th>total_votes</th>\n",
       "      <th>vine</th>\n",
       "      <th>verified_purchase</th>\n",
       "    </tr>\n",
       "  </thead>\n",
       "  <tbody>\n",
       "    <tr>\n",
       "      <th>32351</th>\n",
       "      <td>R3R2RHQWEKX5NL</td>\n",
       "      <td>5</td>\n",
       "      <td>81</td>\n",
       "      <td>89</td>\n",
       "      <td>Y</td>\n",
       "      <td>N</td>\n",
       "    </tr>\n",
       "    <tr>\n",
       "      <th>32362</th>\n",
       "      <td>R1RZ4JZO8DAP7H</td>\n",
       "      <td>3</td>\n",
       "      <td>200</td>\n",
       "      <td>227</td>\n",
       "      <td>Y</td>\n",
       "      <td>N</td>\n",
       "    </tr>\n",
       "    <tr>\n",
       "      <th>32557</th>\n",
       "      <td>RQ94HI0WM8KIG</td>\n",
       "      <td>5</td>\n",
       "      <td>174</td>\n",
       "      <td>188</td>\n",
       "      <td>Y</td>\n",
       "      <td>N</td>\n",
       "    </tr>\n",
       "  </tbody>\n",
       "</table>\n",
       "</div>"
      ],
      "text/plain": [
       "            review_id  star_rating  helpful_votes  total_votes vine  \\\n",
       "32351  R3R2RHQWEKX5NL            5             81           89    Y   \n",
       "32362  R1RZ4JZO8DAP7H            3            200          227    Y   \n",
       "32557   RQ94HI0WM8KIG            5            174          188    Y   \n",
       "\n",
       "      verified_purchase  \n",
       "32351                 N  \n",
       "32362                 N  \n",
       "32557                 N  "
      ]
     },
     "execution_count": 20,
     "metadata": {},
     "output_type": "execute_result"
    }
   ],
   "source": [
    "# 3. Retrieve all rows where a review was part of the Vine program (paid)\n",
    "yes_vine_df = helpful_votes_df.loc[(helpful_votes_df[\"vine\"] == 'Y')]\n",
    "yes_vine_df.head()"
   ]
  },
  {
   "cell_type": "code",
   "execution_count": 21,
   "id": "357fb3d6",
   "metadata": {},
   "outputs": [
    {
     "data": {
      "text/html": [
       "<div>\n",
       "<style scoped>\n",
       "    .dataframe tbody tr th:only-of-type {\n",
       "        vertical-align: middle;\n",
       "    }\n",
       "\n",
       "    .dataframe tbody tr th {\n",
       "        vertical-align: top;\n",
       "    }\n",
       "\n",
       "    .dataframe thead th {\n",
       "        text-align: right;\n",
       "    }\n",
       "</style>\n",
       "<table border=\"1\" class=\"dataframe\">\n",
       "  <thead>\n",
       "    <tr style=\"text-align: right;\">\n",
       "      <th></th>\n",
       "      <th>review_id</th>\n",
       "      <th>star_rating</th>\n",
       "      <th>helpful_votes</th>\n",
       "      <th>total_votes</th>\n",
       "      <th>vine</th>\n",
       "      <th>verified_purchase</th>\n",
       "    </tr>\n",
       "  </thead>\n",
       "  <tbody>\n",
       "    <tr>\n",
       "      <th>884</th>\n",
       "      <td>R2PT2X8FMYFCV3</td>\n",
       "      <td>5</td>\n",
       "      <td>39</td>\n",
       "      <td>41</td>\n",
       "      <td>N</td>\n",
       "      <td>Y</td>\n",
       "    </tr>\n",
       "    <tr>\n",
       "      <th>917</th>\n",
       "      <td>RGCUQSH80SYY7</td>\n",
       "      <td>1</td>\n",
       "      <td>36</td>\n",
       "      <td>47</td>\n",
       "      <td>N</td>\n",
       "      <td>N</td>\n",
       "    </tr>\n",
       "    <tr>\n",
       "      <th>939</th>\n",
       "      <td>R3E6EI073KP0AL</td>\n",
       "      <td>2</td>\n",
       "      <td>21</td>\n",
       "      <td>36</td>\n",
       "      <td>N</td>\n",
       "      <td>Y</td>\n",
       "    </tr>\n",
       "    <tr>\n",
       "      <th>947</th>\n",
       "      <td>R3MYTXW7B4Z6YW</td>\n",
       "      <td>4</td>\n",
       "      <td>687</td>\n",
       "      <td>711</td>\n",
       "      <td>N</td>\n",
       "      <td>Y</td>\n",
       "    </tr>\n",
       "    <tr>\n",
       "      <th>1211</th>\n",
       "      <td>R2WMF1IWN5ZYO4</td>\n",
       "      <td>5</td>\n",
       "      <td>18</td>\n",
       "      <td>24</td>\n",
       "      <td>N</td>\n",
       "      <td>Y</td>\n",
       "    </tr>\n",
       "  </tbody>\n",
       "</table>\n",
       "</div>"
      ],
      "text/plain": [
       "           review_id  star_rating  helpful_votes  total_votes vine  \\\n",
       "884   R2PT2X8FMYFCV3            5             39           41    N   \n",
       "917    RGCUQSH80SYY7            1             36           47    N   \n",
       "939   R3E6EI073KP0AL            2             21           36    N   \n",
       "947   R3MYTXW7B4Z6YW            4            687          711    N   \n",
       "1211  R2WMF1IWN5ZYO4            5             18           24    N   \n",
       "\n",
       "     verified_purchase  \n",
       "884                  Y  \n",
       "917                  N  \n",
       "939                  Y  \n",
       "947                  Y  \n",
       "1211                 Y  "
      ]
     },
     "execution_count": 21,
     "metadata": {},
     "output_type": "execute_result"
    }
   ],
   "source": [
    "# 4. Retrieve all rows where a review was not part of the Vine program (unpaid)\n",
    "no_vine_df = helpful_votes_df.loc[(helpful_votes_df[\"vine\"] == 'N')]\n",
    "no_vine_df.head()"
   ]
  },
  {
   "cell_type": "code",
   "execution_count": 35,
   "id": "82f4f0be",
   "metadata": {},
   "outputs": [
    {
     "data": {
      "text/plain": [
       "3"
      ]
     },
     "execution_count": 35,
     "metadata": {},
     "output_type": "execute_result"
    }
   ],
   "source": [
    "# 5. Number of Vine reviews\n",
    "total_yes_vine_df = len(yes_vine_df)\n",
    "total_yes_vine_df"
   ]
  },
  {
   "cell_type": "code",
   "execution_count": 36,
   "id": "4a660791",
   "metadata": {},
   "outputs": [
    {
     "data": {
      "text/plain": [
       "3094"
      ]
     },
     "execution_count": 36,
     "metadata": {},
     "output_type": "execute_result"
    }
   ],
   "source": [
    "# 5. Number of non-Vine reviews\n",
    "total_no_vine_df = len(no_vine_df)\n",
    "total_no_vine_df"
   ]
  },
  {
   "cell_type": "code",
   "execution_count": 32,
   "id": "0929009f",
   "metadata": {},
   "outputs": [
    {
     "data": {
      "text/plain": [
       "2"
      ]
     },
     "execution_count": 32,
     "metadata": {},
     "output_type": "execute_result"
    }
   ],
   "source": [
    "# 5. Number of 5-star Vine reviews\n",
    "count_five_yes_vine_df = five_yes_vine_df[\"star_rating\"].count()\n",
    "count_five_yes_vine_df"
   ]
  },
  {
   "cell_type": "code",
   "execution_count": 33,
   "id": "aa043325",
   "metadata": {},
   "outputs": [
    {
     "data": {
      "text/plain": [
       "1704"
      ]
     },
     "execution_count": 33,
     "metadata": {},
     "output_type": "execute_result"
    }
   ],
   "source": [
    "# 5. Number of 5-star non-Vine reviews\n",
    "count_five_no_vine_df = five_no_vine_df[\"star_rating\"].count()\n",
    "count_five_no_vine_df"
   ]
  },
  {
   "cell_type": "code",
   "execution_count": 39,
   "id": "6abe36a4",
   "metadata": {},
   "outputs": [
    {
     "data": {
      "text/plain": [
       "66.66666666666666"
      ]
     },
     "execution_count": 39,
     "metadata": {},
     "output_type": "execute_result"
    }
   ],
   "source": [
    "# 5. Percentage of Vine reviews 5-star\n",
    "percentage_five_yes_vine = count_five_yes_vine_df/total_yes_vine_df * 100\n",
    "percentage_five_yes_vine"
   ]
  },
  {
   "cell_type": "code",
   "execution_count": 40,
   "id": "db821524",
   "metadata": {},
   "outputs": [
    {
     "data": {
      "text/plain": [
       "55.07433742727861"
      ]
     },
     "execution_count": 40,
     "metadata": {},
     "output_type": "execute_result"
    }
   ],
   "source": [
    "# 5. Percentage of non-Vine reviews 5-star\n",
    "percentage_five_no_vine= count_five_no_vine_df/total_no_vine_df * 100\n",
    "percentage_five_no_vine"
   ]
  },
  {
   "cell_type": "code",
   "execution_count": null,
   "id": "7c9c5070",
   "metadata": {},
   "outputs": [],
   "source": []
  }
 ],
 "metadata": {
  "kernelspec": {
   "display_name": "mlenv",
   "language": "python",
   "name": "mlenv"
  },
  "language_info": {
   "codemirror_mode": {
    "name": "ipython",
    "version": 3
   },
   "file_extension": ".py",
   "mimetype": "text/x-python",
   "name": "python",
   "nbconvert_exporter": "python",
   "pygments_lexer": "ipython3",
   "version": "3.7.11"
  }
 },
 "nbformat": 4,
 "nbformat_minor": 5
}
